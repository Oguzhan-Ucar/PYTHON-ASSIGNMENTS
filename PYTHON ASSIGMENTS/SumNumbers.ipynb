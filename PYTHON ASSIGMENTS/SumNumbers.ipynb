{
 "cells": [
  {
   "cell_type": "markdown",
   "source": [
    "Define a function named my_sum to return the sum of all int type inputted numbers.\r\n",
    "For example:\r\n",
    "\r\n",
    "Test\tResult\r\n",
    "print(my_sum(9, 1, 3, 0, -1))\r\n",
    "12\r\n",
    "print(my_sum(5, 7, 4))\r\n",
    "16\r\n",
    "print(my_sum(10, -20, 30, 40))\r\n",
    "60"
   ],
   "metadata": {}
  },
  {
   "cell_type": "markdown",
   "source": [
    "Girilen my_sumtüm intsayıların toplamını döndürmek için adlandırılmış bir işlev tanımlayın .\r\n",
    "Örneğin:\r\n",
    "\r\n",
    "Ölçek\tSonuç\r\n",
    "print(my_sum(9, 1, 3, 0, -1))\r\n",
    "12\r\n",
    "print(my_sum(5, 7, 4))\r\n",
    "16\r\n",
    "print(my_sum(10, -20, 30, 40))\r\n",
    "60"
   ],
   "metadata": {}
  },
  {
   "cell_type": "code",
   "execution_count": 42,
   "source": [
    "def my_sum(*x):\r\n",
    "    total = 0\r\n",
    "    for i in x:\r\n",
    "        total += i\r\n",
    "    return total\r\n",
    "print(my_sum(9, 1, 3, 0, -1))\r\n",
    "print(my_sum(5, 7, 4))\r\n",
    "print(my_sum(10, -20, 30, 40))"
   ],
   "outputs": [
    {
     "output_type": "stream",
     "name": "stdout",
     "text": [
      "12\n",
      "16\n",
      "60\n"
     ]
    }
   ],
   "metadata": {}
  },
  {
   "cell_type": "code",
   "execution_count": null,
   "source": [],
   "outputs": [],
   "metadata": {}
  }
 ],
 "metadata": {
  "orig_nbformat": 4,
  "language_info": {
   "name": "python",
   "version": "3.9.6",
   "mimetype": "text/x-python",
   "codemirror_mode": {
    "name": "ipython",
    "version": 3
   },
   "pygments_lexer": "ipython3",
   "nbconvert_exporter": "python",
   "file_extension": ".py"
  },
  "kernelspec": {
   "name": "python3",
   "display_name": "Python 3.9.6 64-bit"
  },
  "interpreter": {
   "hash": "06cb67651ce969e244f20f184e33f4ddb1106793adfe07cf7ddc131c95c4012f"
  }
 },
 "nbformat": 4,
 "nbformat_minor": 2
}