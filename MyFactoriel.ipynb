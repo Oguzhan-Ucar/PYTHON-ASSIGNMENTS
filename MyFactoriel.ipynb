{
 "cells": [
  {
   "cell_type": "markdown",
   "source": [
    "Define a function named my_fact to calculate factorial of the given number. Given a non-negative integer return the factorial of the integer.\r\n",
    "\r\n",
    "(Example: The factorial of 5 is: 5*4*3*2*1 = 120 and factorial of 0 is: 1)\r\n",
    "For example:\r\n",
    "\r\n",
    "Test\tResult\r\n",
    "print(my_fact(5))\r\n",
    "120\r\n",
    "print(my_fact(4))\r\n",
    "24\r\n",
    "print(my_fact(3))\r\n",
    "6\r\n"
   ],
   "metadata": {}
  },
  {
   "cell_type": "markdown",
   "source": [
    "my_factVerilen sayının faktöriyelini hesaplamak için adlandırılmış bir fonksiyon tanımlayın . Negatif olmayan bir tamsayı verildiğinde, tamsayının faktöriyelini döndürür.\r\n",
    "\r\n",
    "(Örnek: 5'in faktöriyeli: 5*4*3*2*1 = 120 ve 0'ın faktöriyeli: 1)\r\n",
    "Örneğin:\r\n",
    "\r\n",
    "Ölçek\tSonuç\r\n",
    "print(my_fact(5))\r\n",
    "120\r\n",
    "print(my_fact(4))\r\n",
    "24\r\n",
    "print(my_fact(3))\r\n",
    "6\r\n"
   ],
   "metadata": {}
  },
  {
   "cell_type": "code",
   "execution_count": 32,
   "source": [
    "def my_fact(n):\r\n",
    "    total = 1\r\n",
    "    for i in range(1,n+1):\r\n",
    "        total *= i\r\n",
    "    return total\r\n",
    "print(my_fact(5)) \r\n",
    "print(my_fact(4))    \r\n",
    "print(my_fact(3))\r\n"
   ],
   "outputs": [
    {
     "output_type": "stream",
     "name": "stdout",
     "text": [
      "120\n",
      "24\n",
      "6\n"
     ]
    }
   ],
   "metadata": {}
  },
  {
   "cell_type": "code",
   "execution_count": null,
   "source": [],
   "outputs": [],
   "metadata": {}
  }
 ],
 "metadata": {
  "orig_nbformat": 4,
  "language_info": {
   "name": "python",
   "version": "3.9.6",
   "mimetype": "text/x-python",
   "codemirror_mode": {
    "name": "ipython",
    "version": 3
   },
   "pygments_lexer": "ipython3",
   "nbconvert_exporter": "python",
   "file_extension": ".py"
  },
  "kernelspec": {
   "name": "python3",
   "display_name": "Python 3.9.6 64-bit"
  },
  "interpreter": {
   "hash": "06cb67651ce969e244f20f184e33f4ddb1106793adfe07cf7ddc131c95c4012f"
  }
 },
 "nbformat": 4,
 "nbformat_minor": 2
}