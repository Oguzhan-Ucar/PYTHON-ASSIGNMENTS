{
 "cells": [
  {
   "cell_type": "markdown",
   "metadata": {},
   "source": [
    "Problem :\n",
    "\n",
    "Task : Estimating the risk of death from coronavirus. Write a program that;\n",
    "\n",
    "Takes \"Yes\" or \"No\" from the user as an answer to the following questions :\n",
    "\n",
    "Are you a cigarette addict older than 75 years old? Variable → age\n",
    "\n",
    "Do you have a severe chronic disease? Variable → chronic\n",
    "\n",
    "Is your immune system too weak? Variable → immune\n",
    "\n",
    "Set a logical algorithm using boolean logic operators (and/or) and use if-statements with the given variables in order to print out us a message : \"You are in risky group\"(if True ) or \"You are not in risky group\" (if False).\n",
    "age =  # can be assigned only True/False\n",
    "chronic =  # can be assigned only True/False\n",
    "immune =  # can be assigned only True/False\n",
    "risk = ?"
   ]
  },
  {
   "cell_type": "markdown",
   "metadata": {},
   "source": [
    "Sorun :\n",
    "\n",
    "Görev : Koronavirüsten ölüm riskini tahmin etmek . Bir program yazın;\n",
    "\n",
    "Aşağıdaki sorulara kullanıcıdan \"Evet\" veya \"Hayır\" cevabını alır:\n",
    "\n",
    "75 yaşından büyük bir sigara bağımlısı mısınız ? Değişken →age\n",
    "\n",
    "Eğer bir var mı ağır kronik hastalığı? Değişken →chronic\n",
    "\n",
    "Sizin mi bağışıklık sistemi çok zayıf ? Değişken →immune\n",
    "\n",
    "Boolean mantık operatörlerini ( and/ or) kullanarak mantıksal bir algoritma kurun ve bize bir mesaj yazdırmak için verilen değişkenlerle if-ifadelerini kullanın : \" Riskli gruptasınız \"(eğer  True ) veya \" Riskli grupta değilsiniz \" (eğer varsa)  False).\n",
    "yaş = # yalnızca atanabilir Doğru/Yanlış kronik = # yalnızca atanabilir Doğru/Yanlış bağışık = # yalnızca atanabilir Doğru/Yanlış \n",
    "risk = ?  "
   ]
  },
  {
   "cell_type": "code",
   "execution_count": 8,
   "metadata": {},
   "outputs": [
    {
     "name": "stdout",
     "output_type": "stream",
     "text": [
      "your risk of covid is low\n"
     ]
    }
   ],
   "source": [
    "ageandsmoke = (input(\"Are you over 75 years old? and Do you smoke ? (answer only Yes/No) : \")).title()\n",
    "chronic = input(\"Do you have a chronic illness ? (answer only Yes/No) : \").title()\n",
    "immune = input(\"Is your immune system weak ? (answer only Yes/No) : \").title()\n",
    "if ageandsmoke == 'No' or chronic == 'No' or immune == 'No' :\n",
    "    print('your risk of covid is low')\n",
    "else :\n",
    "    print('your risk of covid is high')"
   ]
  },
  {
   "cell_type": "code",
   "execution_count": 16,
   "metadata": {},
   "outputs": [
    {
     "name": "stdout",
     "output_type": "stream",
     "text": [
      "your risk of covid is low\n"
     ]
    }
   ],
   "source": [
    "age = int(input(\"enter age : \"))\n",
    "smoke = input(\"Do you smoke ? (answer only Yes/No) : \").title()\n",
    "chronic = input(\"Do you have a chronic illness ? (answer only Yes/No) : \").title()\n",
    "immune = input(\"Is your immune system weak ? (answer only Yes/No) : \").title()\n",
    "if age <= 75 or smoke == 'No' or chronic == 'No' or immune == 'No' :\n",
    "    print('your risk of covid is low')\n",
    "else :\n",
    "    print('your risk of covid is high')"
   ]
  },
  {
   "cell_type": "code",
   "execution_count": null,
   "id": "5a39cc5b",
   "metadata": {},
   "outputs": [],
   "source": []
  }
 ],
 "metadata": {
  "interpreter": {
   "hash": "06cb67651ce969e244f20f184e33f4ddb1106793adfe07cf7ddc131c95c4012f"
  },
  "kernelspec": {
   "display_name": "Python 3.9.6 64-bit",
   "name": "python3"
  },
  "language_info": {
   "codemirror_mode": {
    "name": "ipython",
    "version": 3
   },
   "file_extension": ".py",
   "mimetype": "text/x-python",
   "name": "python",
   "nbconvert_exporter": "python",
   "pygments_lexer": "ipython3",
   "version": "3.10.0"
  }
 },
 "nbformat": 4,
 "nbformat_minor": 5
}
