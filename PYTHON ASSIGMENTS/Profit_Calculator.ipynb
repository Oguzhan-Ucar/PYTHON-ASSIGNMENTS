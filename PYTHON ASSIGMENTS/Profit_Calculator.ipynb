{
 "cells": [
  {
   "cell_type": "markdown",
   "metadata": {},
   "source": [
    "Problem : If you had deposited a coin on the cryptocurrency exchange that brought 7% fixed profit daily for a week, how much would your $ 1000 reach at the end of the 7th day?"
   ]
  },
  {
   "cell_type": "markdown",
   "metadata": {},
   "source": [
    "Problem : Kripto para borsasına bir hafta boyunca günlük %7 sabit kar getiren bir coin yatırmış olsaydınız, 7. günün sonunda 1000$'ınız ne kadara ulaşırdı?"
   ]
  },
  {
   "cell_type": "code",
   "execution_count": 10,
   "metadata": {},
   "outputs": [
    {
     "data": {
      "text/plain": [
       "1605.78147647843"
      ]
     },
     "execution_count": 10,
     "metadata": {},
     "output_type": "execute_result"
    }
   ],
   "source": [
    "money = 1000\n",
    "money = money + money * 0.07 # monday\n",
    "money = money + money * 0.07 # tuesday\n",
    "money = money + money * 0.07 # wednesday\n",
    "money = money + money * 0.07 # thursday\n",
    "money = money + money * 0.07 # friday\n",
    "money = money + money * 0.07 # saturday\n",
    "money = money + money * 0.07 # sunday\n",
    "money"
   ]
  },
  {
   "cell_type": "code",
   "execution_count": 7,
   "metadata": {},
   "outputs": [
    {
     "data": {
      "text/plain": [
       "1605.7814764784307"
      ]
     },
     "execution_count": 7,
     "metadata": {},
     "output_type": "execute_result"
    }
   ],
   "source": [
    "total = 1000\n",
    "total = total * 1.07**7\n",
    "total"
   ]
  },
  {
   "cell_type": "code",
   "execution_count": 2,
   "metadata": {},
   "outputs": [
    {
     "data": {
      "text/plain": [
       "1605.78147647843"
      ]
     },
     "execution_count": 2,
     "metadata": {},
     "output_type": "execute_result"
    }
   ],
   "source": [
    "t = 1000\n",
    "t += t*0.07\n",
    "t += t*0.07\n",
    "t += t*0.07\n",
    "t += t*0.07\n",
    "t += t*0.07\n",
    "t += t*0.07\n",
    "t += t*0.07\n",
    "t"
   ]
  },
  {
   "cell_type": "code",
   "execution_count": 7,
   "metadata": {},
   "outputs": [
    {
     "name": "stdout",
     "output_type": "stream",
     "text": [
      "1605.74\n"
     ]
    }
   ],
   "source": [
    "Principal = a = 1000\n",
    "Daily_profit_Ratio = 7\n",
    "Total_Days = 7\n",
    "Day1profit = ((a)/(100)*7)\n",
    "Day1profit = g1k = 70\n",
    "Day2profit = g2k = ((a+70)/(100)*7)\n",
    "Day2profit = g2k = 74.89\n",
    "Day3profit = g3k = ((a+70+74.89)/(100)*7)\n",
    "day3profit = g3k = 80.14\n",
    "Day4profit = g4k = ((a+70+74.89+80.14)/100*7)\n",
    "Day4profit = g4k = 85.75\n",
    "Day5profit = g5k = ((a+70+74.89+80.14+85.75)/(100)*7)\n",
    "Day5profit = g5k = 91.75\n",
    "Day6profit = g6k = ((a+70+74.89+80.14+85.75+91.75)/(100)*7)\n",
    "Day6profit = g6k = 98.17\n",
    "Day7profit = g7k = ((a+70+74.89+80.14+85.75+91.75+98.17)/(100)*7)\n",
    "Day7profit = g7k = 105.04\n",
    "Totalprofitattheendoftheseventhday = ydncgseltk = (g1k+g2k+g3k+g4k+g5k+g6k+g7k)\n",
    "Collectedmoneyattheendoftheseventhday = ydncgselta = ((a)+(ydncgseltk))\n",
    "print(ydncgselta)"
   ]
  }
 ],
 "metadata": {
  "interpreter": {
   "hash": "06cb67651ce969e244f20f184e33f4ddb1106793adfe07cf7ddc131c95c4012f"
  },
  "kernelspec": {
   "display_name": "Python 3.9.6 64-bit",
   "name": "python3"
  },
  "language_info": {
   "codemirror_mode": {
    "name": "ipython",
    "version": 3
   },
   "file_extension": ".py",
   "mimetype": "text/x-python",
   "name": "python",
   "nbconvert_exporter": "python",
   "pygments_lexer": "ipython3",
   "version": "3.9.6"
  },
  "orig_nbformat": 4
 },
 "nbformat": 4,
 "nbformat_minor": 2
}
