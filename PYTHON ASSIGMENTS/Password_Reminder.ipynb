{
 "cells": [
  {
   "cell_type": "markdown",
   "metadata": {},
   "source": [
    "Task : Let's say; you left a message in the past that prints a password you need. To see the password you wrote, you need to enter your name and the program should recognize you.\n",
    "Write a program that \n",
    "\n",
    "Takes the first name from the user and compares it to yours,\n",
    "Then if the name the user entered is the same as yours, print out such as : \"Hello, Joseph! The password is : W@12\",\n",
    "If the name the user entered is not the same as yours, print out such as : \"Hello, Amina! See you later.\""
   ]
  },
  {
   "cell_type": "markdown",
   "metadata": {},
   "source": [
    "Görev : Diyelim ki; Geçmişte ihtiyacınız olan bir şifreyi yazdıran bir mesaj bıraktınız. Yazdığınız şifreyi görmek için adınızı girmeniz ve programın sizi tanıması gerekir.\n",
    "öyle bir program yazın\n",
    "\n",
    "Kullanıcıdan ilk adı alır ve sizinkiyle karşılaştırır,\n",
    "Ardından, kullanıcının girdiği ad sizinkiyle aynıysa, \"Merhaba Yusuf! Şifre: W@12\" gibi bir çıktı alın,\n",
    "Kullanıcının girdiği ad sizinkiyle aynı değilse, \"Merhaba, Amina! Sonra görüşürüz\" gibi bir çıktı alın."
   ]
  },
  {
   "cell_type": "code",
   "execution_count": 3,
   "metadata": {},
   "outputs": [
    {
     "name": "stdout",
     "output_type": "stream",
     "text": [
      "Hello, Joseph! The password is : W@12\n"
     ]
    }
   ],
   "source": [
    "password = input('Enter your name:').title()\n",
    "if password == 'Joseph':\n",
    "    print('Hello, Joseph! The password is : W@12')\n",
    "else :\n",
    "    print('Hello, Amina! See you later.')    \n"
   ]
  },
  {
   "cell_type": "code",
   "execution_count": null,
   "metadata": {},
   "outputs": [],
   "source": []
  }
 ],
 "metadata": {
  "interpreter": {
   "hash": "06cb67651ce969e244f20f184e33f4ddb1106793adfe07cf7ddc131c95c4012f"
  },
  "kernelspec": {
   "display_name": "Python 3.9.6 64-bit",
   "name": "python3"
  },
  "language_info": {
   "codemirror_mode": {
    "name": "ipython",
    "version": 3
   },
   "file_extension": ".py",
   "mimetype": "text/x-python",
   "name": "python",
   "nbconvert_exporter": "python",
   "pygments_lexer": "ipython3",
   "version": "3.10.0"
  },
  "orig_nbformat": 4
 },
 "nbformat": 4,
 "nbformat_minor": 2
}
