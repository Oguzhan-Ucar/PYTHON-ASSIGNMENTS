{
 "cells": [
  {
   "cell_type": "markdown",
   "source": [
    "Given a non-empty string and an int n, return a new string where the character at index n has been removed. The value of n will be a valid index of a character in the original string (i.e. n will be in the range 0....len(str)-1 inclusive).\r\n",
    "For example:\r\n",
    "\r\n",
    "Test\tResult\r\n",
    "print(missing_char('kitchen', 1))\r\n",
    "ktchen\r\n",
    "print(missing_char('kitchen', 0))\r\n",
    "itchen\r\n",
    "print(missing_char('kitchen', 4))\r\n",
    "kitcen"
   ],
   "metadata": {}
  },
  {
   "cell_type": "markdown",
   "source": [
    "Boş olmayan bir dize ve bir int n verildiğinde, n dizinindeki karakterin kaldırıldığı yeni bir dize döndürün. n'nin değeri , orijinal dizgedeki bir karakterin geçerli bir dizini olacaktır (yani, n , 0....len(str)-1dahil olan aralıkta olacaktır ).\r\n",
    "Örneğin:\r\n",
    "\r\n",
    "Ölçek\tSonuç\r\n",
    "print(missing_char('mutfak', 1))\r\n",
    "mutfak\r\n",
    "print(missing_char('mutfak', 0)\r\n",
    "kaşıntı\r\n",
    "print(missing_char('mutfak', 4))\r\n",
    "mutfak\r\n"
   ],
   "metadata": {}
  },
  {
   "cell_type": "code",
   "execution_count": 4,
   "source": [
    "def missing_char(word, n):\r\n",
    "    return word[:n] + word[n+1:]\r\n",
    "print(missing_char('kitchen', 1))\r\n",
    "print(missing_char('kitchen', 0))\r\n",
    "print(missing_char('kitchen', 4))"
   ],
   "outputs": [
    {
     "output_type": "stream",
     "name": "stdout",
     "text": [
      "ktchen\n",
      "itchen\n",
      "kitcen\n"
     ]
    }
   ],
   "metadata": {}
  }
 ],
 "metadata": {
  "orig_nbformat": 4,
  "language_info": {
   "name": "python",
   "version": "3.9.6",
   "mimetype": "text/x-python",
   "codemirror_mode": {
    "name": "ipython",
    "version": 3
   },
   "pygments_lexer": "ipython3",
   "nbconvert_exporter": "python",
   "file_extension": ".py"
  },
  "kernelspec": {
   "name": "python3",
   "display_name": "Python 3.9.6 64-bit"
  },
  "interpreter": {
   "hash": "06cb67651ce969e244f20f184e33f4ddb1106793adfe07cf7ddc131c95c4012f"
  }
 },
 "nbformat": 4,
 "nbformat_minor": 2
}