{
 "cells": [
  {
   "cell_type": "markdown",
   "source": [
    "Here is another interview code challenge question used\r\n",
    "by Cisco, Dell, Airbnb, Microsoft\r\n",
    "==========================\r\n",
    "Given a string containing just the characters '(', ')', '{', '}', '[' and ']',\r\n",
    "determine if the input string is valid.\r\n",
    "An input string is valid if:\r\n",
    "Open brackets must be closed by the same type of brackets.\r\n",
    "Open brackets must be closed in the correct order.\r\n",
    "Note that an empty string is also considered valid.\r\n",
    "Example 1:\r\n",
    "Input: \"()\"\r\n",
    "Output: True\r\n",
    "Example 2:\r\n",
    "Input: \"()[]{}\"\r\n",
    "Output: True\r\n",
    "Example 3:\r\n",
    "Input: \"(]\"\r\n",
    "Output: False\r\n",
    "Example 4:\r\n",
    "Input: \"([)]\"\r\n",
    "Output: False\r\n",
    "Example 5:\r\n",
    "Input: \"{[]}\"\r\n",
    "Output: True (edited) "
   ],
   "metadata": {}
  },
  {
   "cell_type": "markdown",
   "source": [
    "İşte kullanılan başka bir röportaj kodu meydan okuma sorusu\r\n",
    "Cisco, Dell, Airbnb, Microsoft tarafından\r\n",
    "==========================\r\n",
    "Yalnızca '(', ')', '{', '}', '[' ve ']' karakterlerini içeren bir dize verildiğinde,\r\n",
    "giriş dizesinin geçerli olup olmadığını belirleyin.\r\n",
    "Bir giriş dizesi şu durumlarda geçerlidir:\r\n",
    "Açık parantezler aynı tip parantezler ile kapatılmalıdır.\r\n",
    "Açık parantezler doğru sırada kapatılmalıdır.\r\n",
    "Boş bir dizenin de geçerli kabul edildiğini unutmayın.\r\n",
    "Örnek 1:\r\n",
    "Girdi: \"()\"\r\n",
    "Çıktı: Doğru\r\n",
    "Örnek 2:\r\n",
    "Girdi: \"()[]{}\"\r\n",
    "Çıktı: Doğru\r\n",
    "Örnek 3:\r\n",
    "Girdi: \"(]\"\r\n",
    "Çıktı: Yanlış\r\n",
    "Örnek 4:\r\n",
    "Girdi: \"([)]\"\r\n",
    "Çıktı: Yanlış\r\n",
    "Örnek 5:\r\n",
    "Girdi: \"{[]}\"\r\n",
    "Çıktı: Doğru (düzenlendi)"
   ],
   "metadata": {}
  },
  {
   "cell_type": "code",
   "execution_count": null,
   "source": [],
   "outputs": [],
   "metadata": {}
  }
 ],
 "metadata": {
  "orig_nbformat": 4,
  "language_info": {
   "name": "python"
  }
 },
 "nbformat": 4,
 "nbformat_minor": 2
}