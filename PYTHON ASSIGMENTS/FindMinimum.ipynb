{
 "cells": [
  {
   "cell_type": "markdown",
   "source": [
    "Define a function named my_min to find the min of the inputted numbers.\r\n",
    "For example:\r\n",
    "\r\n",
    "Test\tResult\r\n",
    "print(my_min(5,6,7))\r\n",
    "5\r\n",
    "print(my_min(3,8,-9,0,12,1.2))\r\n",
    "-9\r\n",
    "print(my_min(-100))\r\n",
    "-100"
   ],
   "metadata": {}
  },
  {
   "cell_type": "markdown",
   "source": [
    "my_minGirilen sayıların min'ini bulmak için adlandırılmış bir işlev tanımlayın .\r\n",
    "Örneğin:\r\n",
    "\r\n",
    "Ölçek\tSonuç\r\n",
    "print(my_min(5,6,7))\r\n",
    "5\r\n",
    "print(my_min(3,8,-9,0,12,1.2))\r\n",
    "-9\r\n",
    "print(my_min(-100))\r\n",
    "-100"
   ],
   "metadata": {}
  },
  {
   "cell_type": "code",
   "execution_count": 93,
   "source": [
    "def my_min(*x):\r\n",
    "    a = sorted(x)[0]\r\n",
    "    return a\r\n",
    "print(my_min(5,6,7))\r\n",
    "print(my_min(3,8,-9,0,12,1.2))\r\n",
    "print(my_min(-100))"
   ],
   "outputs": [
    {
     "output_type": "stream",
     "name": "stdout",
     "text": [
      "5\n",
      "-9\n",
      "-100\n"
     ]
    }
   ],
   "metadata": {}
  },
  {
   "cell_type": "code",
   "execution_count": 1,
   "source": [
    "def my_min(*x):\r\n",
    "    a = x[0]\r\n",
    "    for numbers in x:\r\n",
    "        if numbers < a:\r\n",
    "            a = numbers\r\n",
    "    return a\r\n",
    "\r\n",
    "print(my_min(5,6,7))\r\n",
    "print(my_min(3,8,-9,0,12,1.2))\r\n",
    "print(my_min(-100))"
   ],
   "outputs": [
    {
     "output_type": "stream",
     "name": "stdout",
     "text": [
      "5\n",
      "-9\n",
      "-100\n"
     ]
    }
   ],
   "metadata": {}
  },
  {
   "cell_type": "code",
   "execution_count": 2,
   "source": [
    "from functools import reduce\r\n",
    "\r\n",
    "def check_greater(a,b):\r\n",
    "    if a > b:\r\n",
    "        return b\r\n",
    "    else:\r\n",
    "        return a\r\n",
    "\r\n",
    "number_list = [1,6,3,8,5,78,4,23,9]\r\n",
    "minimum = reduce(check_greater, number_list)\r\n",
    "minimum"
   ],
   "outputs": [
    {
     "output_type": "execute_result",
     "data": {
      "text/plain": [
       "1"
      ]
     },
     "metadata": {},
     "execution_count": 2
    }
   ],
   "metadata": {}
  },
  {
   "cell_type": "code",
   "execution_count": null,
   "source": [],
   "outputs": [],
   "metadata": {}
  }
 ],
 "metadata": {
  "orig_nbformat": 4,
  "language_info": {
   "name": "python",
   "version": "3.9.6",
   "mimetype": "text/x-python",
   "codemirror_mode": {
    "name": "ipython",
    "version": 3
   },
   "pygments_lexer": "ipython3",
   "nbconvert_exporter": "python",
   "file_extension": ".py"
  },
  "kernelspec": {
   "name": "python3",
   "display_name": "Python 3.9.6 64-bit"
  },
  "interpreter": {
   "hash": "06cb67651ce969e244f20f184e33f4ddb1106793adfe07cf7ddc131c95c4012f"
  }
 },
 "nbformat": 4,
 "nbformat_minor": 2
}