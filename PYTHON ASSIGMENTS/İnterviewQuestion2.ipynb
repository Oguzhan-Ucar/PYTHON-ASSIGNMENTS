{
 "cells": [
  {
   "cell_type": "markdown",
   "source": [
    "Group Anagrams\r\n",
    "Given a list of strings, group anagrams together.\r\n",
    "Example:\r\n",
    "Input:\r\n",
    "[\"eat\", \"tea\", \"tan\", \"ate\", \"nat\", \"bat\"]\r\n",
    "Output:\r\n",
    "[\r\n",
    "  [\"ate\",\"eat\",\"tea\"],\r\n",
    "  [\"nat\",\"tan\"],\r\n",
    "  [\"bat\"]\r\n",
    "]\r\n",
    "Note:\r\n",
    "All inputs will be in lowercase.\r\n",
    "The order of your output does not matter.\r\n",
    "Answers should be in thread messages"
   ],
   "metadata": {}
  },
  {
   "cell_type": "markdown",
   "source": [
    "Grup Anagramları\r\n",
    "Bir dizi listesi verildiğinde, anagramları birlikte gruplayın.\r\n",
    "Örnek:\r\n",
    "Giriş:\r\n",
    "[\"ye\", \"çay\", \"tan\", \"ye\", \"nat\", \"yarasa\"]\r\n",
    "Çıktı:\r\n",
    "[\r\n",
    "  [\"yemek\",\"ye\",\"çay\"],\r\n",
    "  [\"nat\",\"tan\"],\r\n",
    "  [\"yarasa\"]\r\n",
    "]\r\n",
    "Not:\r\n",
    "Tüm girişler küçük harf olacaktır.\r\n",
    "Çıktınızın sırası önemli değil.\r\n",
    "Cevaplar konu mesajlarında olmalıdır"
   ],
   "metadata": {}
  },
  {
   "cell_type": "code",
   "execution_count": null,
   "source": [],
   "outputs": [],
   "metadata": {}
  }
 ],
 "metadata": {
  "orig_nbformat": 4,
  "language_info": {
   "name": "python"
  }
 },
 "nbformat": 4,
 "nbformat_minor": 2
}