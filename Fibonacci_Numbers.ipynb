{
 "cells": [
  {
   "cell_type": "markdown",
   "source": [
    "Task : Create a list consisting of Fibonacci numbers from 1 to 55 using control flow statements.\r\n",
    "\r\n",
    "The desired output is like :\r\n",
    "\r\n",
    "fibonacci →  [1, 1, 2, 3, 5, 8, 13, 21, 34, 55]"
   ],
   "metadata": {}
  },
  {
   "cell_type": "markdown",
   "source": [
    "Görev : Kontrol akış deyimlerini kullanarak 1'den 55'e kadar Fibonacci sayılarından listoluşan bir sayı oluşturun .\r\n",
    "\r\n",
    "İstenilen çıktı şöyledir:\r\n",
    "\r\n",
    "fibonacci →   [1, 1, 2, 3, 5, 8, 13, 21, 34, 55]"
   ],
   "metadata": {}
  },
  {
   "cell_type": "code",
   "execution_count": 18,
   "source": [
    "mylist = [1]\r\n",
    "x=0\r\n",
    "y=1\r\n",
    "while x < 55:\r\n",
    "  x=x+y\r\n",
    "  y=y+x\r\n",
    "  mylist.append(x)\r\n",
    "  mylist.append(y)\r\n",
    "mylist.remove(y)\r\n",
    "print(mylist)"
   ],
   "outputs": [
    {
     "output_type": "stream",
     "name": "stdout",
     "text": [
      "[1, 1, 2, 3, 5, 8, 13, 21, 34, 55]\n"
     ]
    }
   ],
   "metadata": {}
  },
  {
   "cell_type": "code",
   "execution_count": 7,
   "source": [
    "a, b = 1, 1\r\n",
    "list_fib = []\r\n",
    "while a <= 55:\r\n",
    "    list_fib.append(a)\r\n",
    "    a, b = b, a + b\r\n",
    "print(list_fib)"
   ],
   "outputs": [
    {
     "output_type": "stream",
     "name": "stdout",
     "text": [
      "[1, 1, 2, 3, 5, 8, 13, 21, 34, 55]\n"
     ]
    }
   ],
   "metadata": {}
  }
 ],
 "metadata": {
  "kernelspec": {
   "display_name": "Python 3",
   "language": "python",
   "name": "python3"
  },
  "language_info": {
   "codemirror_mode": {
    "name": "ipython",
    "version": 3
   },
   "file_extension": ".py",
   "mimetype": "text/x-python",
   "name": "python",
   "nbconvert_exporter": "python",
   "pygments_lexer": "ipython3",
   "version": "3.8.8"
  }
 },
 "nbformat": 4,
 "nbformat_minor": 5
}