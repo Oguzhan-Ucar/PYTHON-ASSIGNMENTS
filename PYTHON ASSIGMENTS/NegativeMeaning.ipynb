{
 "cells": [
  {
   "cell_type": "markdown",
   "source": [
    "Define a function to take a word and return negative meaning.\r\n",
    "Given a word, return a new word where \"not \" has been added to the front. However, if the word already begins with \"not\", return the string unchanged.\r\n",
    "\r\n",
    "For example:\r\n",
    "\r\n",
    "Test\tResult\r\n",
    "print(not_string('sugar'))\r\n",
    "not sugar\r\n",
    "print(not_string('x'))\r\n",
    "not x\r\n",
    "print(not_string('not bad'))\r\n",
    "not bad\r\n"
   ],
   "metadata": {}
  },
  {
   "cell_type": "markdown",
   "source": [
    "Bir kelime almak ve olumsuz anlam döndürmek için bir fonksiyon tanımlayın.\r\n",
    "Bir kelime verildiğinde, önüne \" değil \" eklenmiş yeni bir kelime döndürün. Ancak, sözcük zaten \"değil\" ile başlıyorsa, dizeyi değiştirmeden döndürün.\r\n",
    "\r\n",
    "Örneğin:\r\n",
    "\r\n",
    "Ölçek\tSonuç\r\n",
    "print(not_string('şeker'))\r\n",
    "şeker değil\r\n",
    "print(not_string('x'))\r\n",
    "x değil\r\n",
    "print(not_string('fena değil'))\r\n",
    "fena değil"
   ],
   "metadata": {}
  },
  {
   "cell_type": "code",
   "execution_count": 2,
   "source": [
    "def not_string(word):\r\n",
    "    if word.startswith(\"not\"):\r\n",
    "        return(word)\r\n",
    "    else:\r\n",
    "        return \"not \" + word\r\n",
    "print(not_string('sugar'))\r\n",
    "print(not_string('x'))\r\n",
    "print(not_string('not bad'))"
   ],
   "outputs": [
    {
     "output_type": "stream",
     "name": "stdout",
     "text": [
      "not sugar\n",
      "not x\n",
      "not bad\n"
     ]
    }
   ],
   "metadata": {}
  }
 ],
 "metadata": {
  "orig_nbformat": 4,
  "language_info": {
   "name": "python",
   "version": "3.9.6",
   "mimetype": "text/x-python",
   "codemirror_mode": {
    "name": "ipython",
    "version": 3
   },
   "pygments_lexer": "ipython3",
   "nbconvert_exporter": "python",
   "file_extension": ".py"
  },
  "kernelspec": {
   "name": "python3",
   "display_name": "Python 3.9.6 64-bit"
  },
  "interpreter": {
   "hash": "06cb67651ce969e244f20f184e33f4ddb1106793adfe07cf7ddc131c95c4012f"
  }
 },
 "nbformat": 4,
 "nbformat_minor": 2
}