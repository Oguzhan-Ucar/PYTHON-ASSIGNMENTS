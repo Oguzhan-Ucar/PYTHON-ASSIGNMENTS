{
 "cells": [
  {
   "cell_type": "markdown",
   "source": [
    "Task-1:\r\n",
    "\r\n",
    "Write a short Python program that asks the user to enter Celsius temperature (it can be a decimal number), converts the entered temperature into Fahrenheit degree and prints the result.\r\n",
    "\r\n",
    "Task-2:\r\n",
    "Write a short Python program that asks the user to enter a distance (it can be a decimal number) in kilometers, converts the entered distance into miles and prints the result.\r\n"
   ],
   "metadata": {}
  },
  {
   "cell_type": "markdown",
   "source": [
    "Görev 1:\r\n",
    "\r\n",
    "Kullanıcıdan Celsius sıcaklığını girmesini isteyen (ondalık bir sayı olabilir), girilen sıcaklığı Fahrenheit derecesine çeviren ve sonucu yazdıran kısa bir Python programı yazın.\r\n",
    "\r\n",
    "Görev-2:\r\n",
    "Kullanıcıdan kilometre cinsinden bir mesafe (ondalık sayı olabilir) girmesini isteyen, girilen mesafeyi mile çeviren ve sonucu yazdıran kısa bir Python programı yazın."
   ],
   "metadata": {}
  },
  {
   "cell_type": "code",
   "execution_count": 1,
   "source": [
    "Celsius = C = (26.5)\r\n",
    "Fahrenheit = F = ((C*1.8)+(32))\r\n",
    "print(F)"
   ],
   "outputs": [
    {
     "output_type": "stream",
     "name": "stdout",
     "text": [
      "79.7\n"
     ]
    }
   ],
   "metadata": {}
  },
  {
   "cell_type": "code",
   "execution_count": 2,
   "source": [
    "km = 17.5\r\n",
    "mil = (km*0.62137)\r\n",
    "print(mil)\r\n"
   ],
   "outputs": [
    {
     "output_type": "stream",
     "name": "stdout",
     "text": [
      "10.873975\n"
     ]
    }
   ],
   "metadata": {}
  },
  {
   "cell_type": "code",
   "execution_count": null,
   "source": [],
   "outputs": [],
   "metadata": {}
  }
 ],
 "metadata": {
  "orig_nbformat": 4,
  "language_info": {
   "name": "python",
   "version": "3.9.6",
   "mimetype": "text/x-python",
   "codemirror_mode": {
    "name": "ipython",
    "version": 3
   },
   "pygments_lexer": "ipython3",
   "nbconvert_exporter": "python",
   "file_extension": ".py"
  },
  "kernelspec": {
   "name": "python3",
   "display_name": "Python 3.9.6 64-bit"
  },
  "interpreter": {
   "hash": "06cb67651ce969e244f20f184e33f4ddb1106793adfe07cf7ddc131c95c4012f"
  }
 },
 "nbformat": 4,
 "nbformat_minor": 2
}