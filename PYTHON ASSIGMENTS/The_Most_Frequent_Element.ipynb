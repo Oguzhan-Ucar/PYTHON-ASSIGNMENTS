{
 "cells": [
  {
   "cell_type": "markdown",
   "metadata": {},
   "source": [
    "Task : Find out the most common trick and its frequency.\n",
    "Write a program that;\n",
    "\n",
    "Finds out the most frequent number in the given list.\n",
    "Calculates its frequency.\n",
    "Prints out the result such as :\n",
    "Example\n",
    "Given list\tDesired Output\n",
    "numbers = [1, 3, 7, 4, 3, 0, 3, 6, 3]\n",
    "the most frequent number is 3 and it was 4 times repeatedNote : You can/should use useful/necessary built-in functions and methods of the list operation."
   ]
  },
  {
   "cell_type": "markdown",
   "metadata": {},
   "source": [
    "Görev : En sık görülen numarayı ve sıklığını öğrenin.\n",
    "\n",
    "Bir program yazın;\n",
    "\n",
    "Verilenlerde en sık görülen sayıyı bulur list.\n",
    "Frekansını hesaplar.\n",
    "Aşağıdaki gibi sonucu yazdırır:\n",
    "Örnek\n",
    "verilen list\tIstenilen çıktı\n",
    "sayılar = [1, 3, 7, 4, 3, 0, 3, 6, 3]\n",
    "en sık görülen sayı 3'tür ve 4 kez tekrarlanmıştırNot : Sen / / kullanışlı gerekli kullanmalıdır olabilir  yerleşik fonksiyon ve yöntemlerin  arasında listoperasyon."
   ]
  },
  {
   "cell_type": "code",
   "execution_count": 1,
   "metadata": {},
   "outputs": [
    {
     "data": {
      "text/plain": [
       "3"
      ]
     },
     "execution_count": 1,
     "metadata": {},
     "output_type": "execute_result"
    }
   ],
   "source": [
    "x = [1, 3, 7, 4, 3, 0, 3, 6, 3]\n",
    "max(x, key = x.count)"
   ]
  },
  {
   "cell_type": "code",
   "execution_count": 2,
   "metadata": {},
   "outputs": [
    {
     "data": {
      "text/plain": [
       "4"
      ]
     },
     "execution_count": 2,
     "metadata": {},
     "output_type": "execute_result"
    }
   ],
   "source": [
    "x.count(max(x, key = x.count))"
   ]
  }
 ],
 "metadata": {
  "kernelspec": {
   "display_name": "Python 3",
   "language": "python",
   "name": "python3"
  },
  "language_info": {
   "codemirror_mode": {
    "name": "ipython",
    "version": 3
   },
   "file_extension": ".py",
   "mimetype": "text/x-python",
   "name": "python",
   "nbconvert_exporter": "python",
   "pygments_lexer": "ipython3",
   "version": "3.8.8"
  }
 },
 "nbformat": 4,
 "nbformat_minor": 5
}
