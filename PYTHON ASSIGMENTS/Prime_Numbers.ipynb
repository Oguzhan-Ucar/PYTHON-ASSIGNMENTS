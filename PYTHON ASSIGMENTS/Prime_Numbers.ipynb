{
 "cells": [
  {
   "cell_type": "markdown",
   "source": [
    "Task : Print the prime numbers which are between 1 to entered limit number (n).\r\n",
    "\r\n",
    "You can use a nested for loop.\r\n",
    "Collect all these numbers into a list\r\n",
    "The desired output for n=100 :\r\n",
    "\r\n",
    "[2, 3, 5, 7, 11, 13, 17, 19, 23, 29, 31, 37, 41, 43, 47, 53, 59,\r\n",
    "61, 67, 71, 73, 79, 83, 89, 97]\r\n",
    "Note that : This question is famous on the web, so to get more benefit from this assignment, try to complete this task on your own."
   ],
   "metadata": {}
  },
  {
   "cell_type": "markdown",
   "source": [
    "Görev : 1 ile girilen limit sayısı ( ) arasındaki asal sayıları yazdırın n.\r\n",
    "\r\n",
    "Yuvalanmış bir fordöngü kullanabilirsiniz .\r\n",
    "Tüm bu sayıları bir list\r\n",
    "İstenen çıktı n=100:\r\n",
    "\r\n",
    "[2, 3, 5, 7, 11, 13, 17, 19, 23, 29, 31, 37, 41, 43, 47, 53, 59, \r\n",
    "61, 67, 71, 73, 79, 83, 89, 97 ]\r\n",
    "Not : Bu soru internette meşhurdur, bu yüzden bu ödevden daha fazla yararlanmak için bu görevi kendi başınıza tamamlamaya çalışın."
   ],
   "metadata": {}
  },
  {
   "cell_type": "code",
   "execution_count": 30,
   "source": [
    "n = int(input(\"Enter a number : \"))\r\n",
    "primelist = []\r\n",
    "for i in range(2, n+1):\r\n",
    "    count = 0\r\n",
    "    for x in range(2, i):\r\n",
    "        if not i % x:\r\n",
    "            count += 1\r\n",
    "            break\r\n",
    "    if not count:\r\n",
    "        primelist.append(i)\r\n",
    "print(primelist)"
   ],
   "outputs": [
    {
     "output_type": "stream",
     "name": "stdout",
     "text": [
      "Enter an end number : 100\n",
      "[2, 3, 5, 7, 11, 13, 17, 19, 23, 29, 31, 37, 41, 43, 47, 53, 59, 61, 67, 71, 73, 79, 83, 89, 97]\n"
     ]
    }
   ],
   "metadata": {}
  },
  {
   "cell_type": "code",
   "execution_count": null,
   "source": [],
   "outputs": [],
   "metadata": {}
  }
 ],
 "metadata": {
  "kernelspec": {
   "display_name": "Python 3",
   "language": "python",
   "name": "python3"
  },
  "language_info": {
   "codemirror_mode": {
    "name": "ipython",
    "version": 3
   },
   "file_extension": ".py",
   "mimetype": "text/x-python",
   "name": "python",
   "nbconvert_exporter": "python",
   "pygments_lexer": "ipython3",
   "version": "3.8.8"
  }
 },
 "nbformat": 4,
 "nbformat_minor": 5
}