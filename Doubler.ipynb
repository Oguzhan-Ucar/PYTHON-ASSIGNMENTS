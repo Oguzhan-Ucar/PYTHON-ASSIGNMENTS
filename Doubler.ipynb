{
 "cells": [
  {
   "cell_type": "markdown",
   "source": [
    "Given two integer values, return their sum. If the two values are the same, then return double their sum.\r\n",
    "\r\n",
    "For example:\r\n",
    "\r\n",
    "Test\tResult\r\n",
    "print(sum_double(1, 2))\r\n",
    "3\r\n",
    "print(sum_double(5, 7))\r\n",
    "12\r\n",
    "print(sum_double(5, 5))\r\n",
    "20"
   ],
   "metadata": {}
  },
  {
   "cell_type": "markdown",
   "source": [
    "İki tamsayı değeri verildiğinde, toplamlarını döndürün. İki değer aynıysa, toplamlarının iki katını döndürün.\r\n",
    "\r\n",
    "Örneğin:\r\n",
    "\r\n",
    "Ölçek\tSonuç\r\n",
    "yazdır(toplam_çift(1, 2))\r\n",
    "3\r\n",
    "print(sum_double(5, 7))\r\n",
    "12\r\n",
    "yazdır(toplam_çift(5, 5))\r\n",
    "20\r\n"
   ],
   "metadata": {}
  },
  {
   "cell_type": "code",
   "execution_count": 1,
   "source": [
    "def sum_double(x,y):\r\n",
    "    if x != y:\r\n",
    "        return x+y\r\n",
    "    else:\r\n",
    "        return (x+y)*2\r\n",
    "        \r\n",
    "print(sum_double(1,2))\r\n",
    "print(sum_double(5,7)) \r\n",
    "print(sum_double(5,5))"
   ],
   "outputs": [
    {
     "output_type": "stream",
     "name": "stdout",
     "text": [
      "3\n",
      "12\n",
      "20\n"
     ]
    }
   ],
   "metadata": {}
  },
  {
   "cell_type": "code",
   "execution_count": null,
   "source": [],
   "outputs": [],
   "metadata": {}
  }
 ],
 "metadata": {
  "orig_nbformat": 4,
  "language_info": {
   "name": "python",
   "version": "3.9.6",
   "mimetype": "text/x-python",
   "codemirror_mode": {
    "name": "ipython",
    "version": 3
   },
   "pygments_lexer": "ipython3",
   "nbconvert_exporter": "python",
   "file_extension": ".py"
  },
  "kernelspec": {
   "name": "python3",
   "display_name": "Python 3.9.6 64-bit"
  },
  "interpreter": {
   "hash": "06cb67651ce969e244f20f184e33f4ddb1106793adfe07cf7ddc131c95c4012f"
  }
 },
 "nbformat": 4,
 "nbformat_minor": 2
}