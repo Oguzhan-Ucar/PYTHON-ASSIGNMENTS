{
 "cells": [
  {
   "cell_type": "markdown",
   "metadata": {},
   "source": [
    "Task:\n",
    "\n",
    "Find out if a given number is an \"Armstrong Number\".\n",
    "\n",
    "An n-digit number that is the sum of the nth powers of its digits is called an n-Armstrong number. Examples :\n",
    "371 = 3**3 + 7**3 + 1**3;\n",
    "9474 = 9**4 + 4**4 + 7**4 + 4**4;\n",
    "93084 = 9**5 + 3**5 + 0**5 + 8**5 + 4**5.\n",
    "\n",
    "Write a Python program that;\n",
    "takes a positive integer number from the user,\n",
    "checks the entered number if it is Armstrong,\n",
    "consider the negative, float and any entries other than numeric values then display a warning message to the user.\n"
   ]
  },
  {
   "cell_type": "markdown",
   "metadata": {},
   "source": [
    "Görev:\n",
    "\n",
    "Belirli bir sayının \"Armstrong Numarası\" olup olmadığını öğrenin.\n",
    "\n",
    "Rakamlarının n'inci kuvvetlerinin toplamı olan n basamaklı bir sayıya n-Armstrong sayısı denir. Örnekler:\n",
    "371 = 3**3 + 7**3 + 1**3;\n",
    "9474 = 9**4 + 4**4 + 7**4 + 4**4;\n",
    "93084 = 9**5 + 3**5 + 0**5 + 8**5 + 4**5.\n",
    "\n",
    "Bir Python programı yazın;\n",
    "kullanıcıdan pozitif bir tam sayı alır,\n",
    "girilen numaranın Armstrong olup olmadığını kontrol eder,\n",
    "negatif, float ve sayısal değerler dışındaki tüm girişleri dikkate alın ve kullanıcıya bir uyarı mesajı görüntüleyin."
   ]
  },
  {
   "cell_type": "code",
   "execution_count": 53,
   "metadata": {},
   "outputs": [
    {
     "name": "stdout",
     "output_type": "stream",
     "text": [
      "371 is an Armstrong number\n"
     ]
    }
   ],
   "source": [
    "number = input('Please enter an integer number:')\n",
    "force = len(number)\n",
    "total = 0\n",
    "for i in number:\n",
    "    total += int(i) ** force\n",
    "if int(number) == total:\n",
    "    print(number + \" is an Armstrong number\")\n",
    "else:\n",
    "    print(number + \" is not an Armstrong number\")\n",
    "    "
   ]
  },
  {
   "cell_type": "code",
   "execution_count": 1,
   "metadata": {},
   "outputs": [
    {
     "name": "stdout",
     "output_type": "stream",
     "text": [
      "71 is not an Armstrong number\n"
     ]
    }
   ],
   "source": [
    "number = input('Please enter an integer number:')\n",
    "total = 0\n",
    "for i in number:\n",
    "    total += int(i) ** len(number)\n",
    "if int(number) == total:\n",
    "    print(number + \" is an Armstrong number\")\n",
    "else:\n",
    "    print(number + \" is not an Armstrong number\")"
   ]
  }
 ],
 "metadata": {
  "interpreter": {
   "hash": "dea00d7a52a69ae74b55b4c5bd950821b5efa46e2a84902fb2d4d515202f7697"
  },
  "kernelspec": {
   "display_name": "Python 3.10.0 64-bit (system)",
   "language": "python",
   "name": "python3"
  },
  "language_info": {
   "codemirror_mode": {
    "name": "ipython",
    "version": 3
   },
   "file_extension": ".py",
   "mimetype": "text/x-python",
   "name": "python",
   "nbconvert_exporter": "python",
   "pygments_lexer": "ipython3",
   "version": "3.10.0"
  },
  "orig_nbformat": 4
 },
 "nbformat": 4,
 "nbformat_minor": 2
}
