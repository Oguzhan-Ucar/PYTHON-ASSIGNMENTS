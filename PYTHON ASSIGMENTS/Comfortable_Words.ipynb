{
 "cells": [
  {
   "cell_type": "markdown",
   "source": [
    "Task : Find out if the given word is \"comfortable words\" in relation to the ten-finger keyboard use.\n",
    "\n",
    "A comfortable word is a word which you can type always alternating the hand you type with (assuming you type using a Q-keyboard and use of the ten-fingers standard).\n",
    "The word will always be a string consisting of only letters from a to z.\n",
    "Write a program which returns True if it's a comfortable word or False otherwise.\n",
    "Examples\n",
    "Given  word\tDesired Output (explanation)\n",
    "tester\tFalse (uses only left-hand fingers)*\n",
    "polly\tFalse (uses only right-hand fingers)*\n",
    "clarusway\tTrue (uses both hand fingers)*Note : Do a quick research on ten-fingers keyboard usage. (*) the explanation doesn't need to be in the output."
   ],
   "metadata": {}
  },
  {
   "cell_type": "markdown",
   "source": [
    "Görev :  On parmak klavye kullanımıyla ilgili olarak verilenlerin word\" rahat kelimeler \" olup olmadığını öğrenin .\n",
    "\n",
    "Bir rahat bir kelime size (on-parmak standart bir Q-klavye ve kullanım kullanarak tip varsayılarak) ile tip el değişen zaman tip bir kelimedir.\n",
    "Sözcük her zaman yalnızca ile arasındaki harflerden oluşan bir dize a olacaktır z.\n",
    "TrueRahat bir kelime veya Falsebaşka bir kelime olup olmadığını döndüren bir program yazın  .\n",
    "Örnekler\n",
    "verilen  word\tİstenen Çıktı (açıklama)\n",
    "test cihazı\tFalse (yalnızca sol el parmaklarını kullanır)*\n",
    "polly\tFalse (yalnızca sağ el parmaklarını kullanır)*\n",
    "clarusway\tTrue (iki elini de kullanır)*Not : On parmak klavye kullanımı hakkında hızlı bir araştırma yapın. (*) açıklamanın çıktıda olması gerekmez."
   ],
   "metadata": {}
  },
  {
   "cell_type": "code",
   "execution_count": 1,
   "source": [
    "l = {'w', 'v', 't', 'f', 'y', 's', 'z', 'q', 'd', 'x', 'c', 'r', 'b', 'e', 'g', 'a'}\r\n",
    "r = {'u', 'k', 'ş', 'ö', 'ü', 'ç', 'h', 'p', 'm', 'j', 'n', 'ğ', 'o', 'i', 'ı', 'l'}\r\n",
    "w = set(input(\"enter a word :\"))\r\n",
    "if (w & r) and (w & l):\r\n",
    " print('yes,your word is comfortable')\r\n",
    "else :\r\n",
    " print('no,your word is not comfortable')"
   ],
   "outputs": [
    {
     "output_type": "stream",
     "name": "stdout",
     "text": [
      "enter a word :oguzhan\n",
      "yes,your word is comfortable\n"
     ]
    }
   ],
   "metadata": {}
  },
  {
   "cell_type": "code",
   "execution_count": null,
   "source": [],
   "outputs": [],
   "metadata": {}
  }
 ],
 "metadata": {
  "interpreter": {
   "hash": "06cb67651ce969e244f20f184e33f4ddb1106793adfe07cf7ddc131c95c4012f"
  },
  "kernelspec": {
   "name": "python3",
   "display_name": "Python 3.9.6 64-bit"
  },
  "language_info": {
   "codemirror_mode": {
    "name": "ipython",
    "version": 3
   },
   "file_extension": ".py",
   "mimetype": "text/x-python",
   "name": "python",
   "nbconvert_exporter": "python",
   "pygments_lexer": "ipython3",
   "version": "3.9.6"
  }
 },
 "nbformat": 4,
 "nbformat_minor": 5
}