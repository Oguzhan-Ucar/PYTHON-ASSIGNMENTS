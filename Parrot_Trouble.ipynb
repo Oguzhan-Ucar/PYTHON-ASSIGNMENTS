{
 "cells": [
  {
   "cell_type": "markdown",
   "source": [
    "We have a loud talking parrot. We are in trouble if the parrot is talking and the hour is before 6 or after 21.\r\n",
    "Define a function taking two parameters (talking and hour) to return True if we are in trouble. The argument to  talking parameter can only be True or False whether it is talking or not. The argument to hour parameter should be the current hour time in the range of 0 to 23.\r\n",
    "For example:\r\n",
    "\r\n",
    "Test\tResult\r\n",
    "print(parrot_trouble(True, 5))\r\n",
    "True\r\n",
    "print(parrot_trouble(True, 8))\r\n",
    "False\r\n",
    "print(parrot_trouble(False, 22))\r\n",
    "False"
   ],
   "metadata": {}
  },
  {
   "cell_type": "markdown",
   "source": [
    "Yüksek sesle konuşan bir papağanımız var. Papağan konuşuyorsa ve saat 6'dan önce veya 21'den sonraysa başımız belaya girer.\r\n",
    "Başımız beladaysa True döndürmek için iki parametre (konuşma ve saat) alan bir işlev tanımlayın. Konuşma parametresinin argümanı, konuşsa da konuşmasa da yalnızca Doğru veya Yanlış olabilir. Saat parametresinin argümanı, 0 ila 23 aralığında geçerli saat zamanı olmalıdır.\r\n",
    "Örneğin:\r\n",
    "\r\n",
    "Test sonucu\r\n",
    "print(parrot_trouble(Doğru, 5))\r\n",
    "NS\r\n",
    "print(parrot_trouble(Doğru, 8)\r\n",
    "Yanlış\r\n",
    "print(parrot_trouble(Yanlış, 22))\r\n",
    "Yanlış"
   ],
   "metadata": {}
  },
  {
   "cell_type": "code",
   "execution_count": 13,
   "source": [
    "def parrot_trouble(talking,hour):\r\n",
    "    if talking:\r\n",
    "        if hour<6 or hour>21:\r\n",
    "            return True\r\n",
    "        else: \r\n",
    "            return False\r\n",
    "    else:\r\n",
    "        return False\r\n",
    "print(parrot_trouble(True, 5))\r\n",
    "print(parrot_trouble(True, 8))\r\n",
    "print(parrot_trouble(False, 22))"
   ],
   "outputs": [
    {
     "output_type": "stream",
     "name": "stdout",
     "text": [
      "True\n",
      "False\n",
      "False\n"
     ]
    }
   ],
   "metadata": {}
  }
 ],
 "metadata": {
  "orig_nbformat": 4,
  "language_info": {
   "name": "python",
   "version": "3.9.6",
   "mimetype": "text/x-python",
   "codemirror_mode": {
    "name": "ipython",
    "version": 3
   },
   "pygments_lexer": "ipython3",
   "nbconvert_exporter": "python",
   "file_extension": ".py"
  },
  "kernelspec": {
   "name": "python3",
   "display_name": "Python 3.9.6 64-bit"
  },
  "interpreter": {
   "hash": "06cb67651ce969e244f20f184e33f4ddb1106793adfe07cf7ddc131c95c4012f"
  }
 },
 "nbformat": 4,
 "nbformat_minor": 2
}