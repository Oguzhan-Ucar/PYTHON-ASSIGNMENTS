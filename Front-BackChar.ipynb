{
 "cells": [
  {
   "cell_type": "markdown",
   "source": [
    "Given a string, return a new string where the first and last chars have been exchanged.\r\n",
    "For example:\r\n",
    "\r\n",
    "Test\tResult\r\n",
    "print(front_back('clarusway'))\r\n",
    "ylaruswac\r\n",
    "print(front_back('a'))\r\n",
    "a\r\n",
    "print(front_back('ab'))\r\n",
    "ba"
   ],
   "metadata": {}
  },
  {
   "cell_type": "markdown",
   "source": [
    "Bir dize verildiğinde, ilk ve son karakterlerin değiştirildiği yeni bir dize döndürün.\r\n",
    "Örneğin:\r\n",
    "\r\n",
    "Ölçek\tSonuç\r\n",
    "print(front_back('clarusway'))\r\n",
    "ılarusvak\r\n",
    "print(front_back('a'))\r\n",
    "a\r\n",
    "print(front_back('ab'))\r\n",
    "ba"
   ],
   "metadata": {}
  },
  {
   "cell_type": "code",
   "execution_count": 5,
   "source": [
    "def front_back(word):\r\n",
    "      if len(word) > 1:\r\n",
    "            return word[-1:] + word[1:-1] + word[:1]\r\n",
    "      else:\r\n",
    "            return word[-1:]\r\n",
    "print(front_back('clarusway'))\r\n",
    "print(front_back('a'))\r\n",
    "print(front_back('ab'))\r\n"
   ],
   "outputs": [
    {
     "output_type": "stream",
     "name": "stdout",
     "text": [
      "ylaruswac\n",
      "a\n",
      "ba\n"
     ]
    }
   ],
   "metadata": {}
  },
  {
   "cell_type": "code",
   "execution_count": null,
   "source": [],
   "outputs": [],
   "metadata": {}
  }
 ],
 "metadata": {
  "orig_nbformat": 4,
  "language_info": {
   "name": "python",
   "version": "3.9.6",
   "mimetype": "text/x-python",
   "codemirror_mode": {
    "name": "ipython",
    "version": 3
   },
   "pygments_lexer": "ipython3",
   "nbconvert_exporter": "python",
   "file_extension": ".py"
  },
  "kernelspec": {
   "name": "python3",
   "display_name": "Python 3.9.6 64-bit"
  },
  "interpreter": {
   "hash": "06cb67651ce969e244f20f184e33f4ddb1106793adfe07cf7ddc131c95c4012f"
  }
 },
 "nbformat": 4,
 "nbformat_minor": 2
}